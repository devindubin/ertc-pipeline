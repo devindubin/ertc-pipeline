{
 "cells": [
  {
   "cell_type": "code",
   "execution_count": 1,
   "metadata": {},
   "outputs": [],
   "source": [
    "import openpyxl\n",
    "import os\n",
    "import shutil\n",
    "from PyPDF2 import PdfReader\n",
    "import cv2"
   ]
  },
  {
   "cell_type": "code",
   "execution_count": 2,
   "metadata": {},
   "outputs": [],
   "source": [
    "with open(\"example.json\",\"r\") as f:\n",
    "    data = eval(f.read())"
   ]
  },
  {
   "cell_type": "code",
   "execution_count": 3,
   "metadata": {},
   "outputs": [
    {
     "name": "stdout",
     "output_type": "stream",
     "text": [
      "No Override\n"
     ]
    }
   ],
   "source": [
    "\n",
    "bix_name=data.get('business_name')\n",
    "#Create Directory For Client Files\n",
    "try:\n",
    "    directory = os.path.join(os.getcwd(),'ClientFiles',bix_name)\n",
    "    if os.path.exists(directory):\n",
    "        \n",
    "        response = input(\"Client name already found in directory. Do you wish to overwrite this folder? (y/N): \")\n",
    "        \n",
    "        if response and response.lower()[0] == \"y\":\n",
    "            shutil.rmtree(directory)\n",
    "            os.mkdir(directory)\n",
    "        else:\n",
    "            print('No Override')\n",
    "    else:\n",
    "        os.mkdir(directory)\n",
    "except Exception as e:\n",
    "    print(e)\n",
    "\n",
    "    #raise FileExistsError('Organization By This Name Already Exists. Check If Client Is Duplicate, If Not, add current date to client name')"
   ]
  },
  {
   "cell_type": "code",
   "execution_count": 4,
   "metadata": {},
   "outputs": [
    {
     "data": {
      "text/plain": [
       "['Version features',\n",
       " '01_P&L',\n",
       " '02_941',\n",
       " '03_Payroll',\n",
       " '04_Health',\n",
       " '05_PPP',\n",
       " '06_Owners',\n",
       " '07_Govt Shutdown',\n",
       " 'PPP instr',\n",
       " 'Common EEs',\n",
       " 'Q2_2020 941X',\n",
       " 'Q3_2020 941X',\n",
       " 'Q4_2020 941X',\n",
       " 'Q1_2021 941X',\n",
       " 'Q2_2021 941X',\n",
       " 'Q3_2021 941X',\n",
       " 'Q4_2021 941X',\n",
       " 'Sub Rpt 1',\n",
       " 'Sub Rpt 2',\n",
       " 'Sub Rpt 3',\n",
       " '08_Calculator']"
      ]
     },
     "execution_count": 4,
     "metadata": {},
     "output_type": "execute_result"
    }
   ],
   "source": [
    "template_file  = \"Employee Retention Credit Calculator .xlsx\"\n",
    "workbook = openpyxl.load_workbook(template_file)\n",
    "workbook.sheetnames"
   ]
  },
  {
   "cell_type": "code",
   "execution_count": 5,
   "metadata": {},
   "outputs": [],
   "source": [
    "# Separate Raw Request By Section\n",
    "profit_loss = {}\n",
    "gov_shutdown = {}\n",
    "# payroll = List\n",
    "# healthcare = List\n",
    "# ppploan = List\n",
    "# TODO convert to case switch\n",
    "for key, value in data.items():\n",
    "    if \"gov\" in key:\n",
    "        gs_key = key.split(\"_\", 2)\n",
    "        gov_shutdown[gs_key[-1]] = value\n",
    "    elif \"pl\" in key:\n",
    "        profit_loss[key] = value\n",
    "    elif key == \"owner_calculation\":\n",
    "        owner_calculations = value\n",
    "        \n",
    "    elif key == \"payroll_documents\":\n",
    "        payroll = value\n",
    "    elif key == \"ppp_info\":\n",
    "        ppploan = value\n",
    "    elif key == \"doc_941\":\n",
    "        doc_941 = value\n",
    "    elif key == \"hp_contributions\":\n",
    "        healthcare = value\n",
    "    elif key == 'business_name':\n",
    "        business_name = value\n",
    "\n",
    "sub = {'profit_loss': profit_loss,\n",
    "       'gov_shutdown': gov_shutdown,\n",
    "       'owner_calculations': owner_calculations,\n",
    "       'payroll_documents': payroll,\n",
    "       'healthcare': healthcare,\n",
    "       'doc941': doc_941,\n",
    "       'ppp_loan': ppploan,\n",
    "       'business_name':business_name}\n",
    "\n",
    "\n",
    "#Split Profit/Loss\n",
    "p_l = sub.get('profit_loss')\n",
    "for key, value in p_l.items():\n",
    "    p_l[key] = [{x.split(\"-\")[0]:x.split(\"-\")[-1]} for x in value.split(\";\")]\n",
    "#     #p_l[key] = [{x.split(\"-\")[0]:x.split(\"-\")[-1]} for x in value]\n",
    "#     #print([{x.split(\"-\")[0]:x.split(\"-\")[1]} for x in value])\n",
    "sub['profit_loss'] = p_l\n",
    "sub\n",
    "\n",
    "#Split Gov Shutdown\n",
    "g_s = sub.get(\"gov_shutdown\")\n",
    "for key, value in g_s.items():\n",
    "    g_s[key] = value.split(\";\") if \";\" in value else []\n",
    "sub['gov_shutdown'] = g_s\n",
    "\n",
    "# Parse Resource Ids for payroll documents\n",
    "#TODO copy for healthcare documents because they should also be submited per quarter\n",
    "pr = sub.get(\"payroll_documents\")\n",
    "payroll_ids = []\n",
    "for attachment in pr:\n",
    "    pq = attachment.get('payroll_quarter')\n",
    "    resource_id = attachment.get('docs').pop().split('/')[-1]\n",
    "    payroll_ids.append({'quarter':pq,'resource_id':resource_id})\n",
    "sub['payroll_documents'] = payroll_ids\n",
    "\n",
    "\n",
    "sub['doc941']=sub.get('doc941').pop().split('/')[-1]\n"
   ]
  },
  {
   "cell_type": "code",
   "execution_count": 6,
   "metadata": {},
   "outputs": [],
   "source": [
    "#Input Profit And Loss Values into first tab\n",
    "sheet = workbook['01_P&L']\n",
    "\"\"\"\n",
    "Q1-2019: B14\n",
    "Q2-2019: B17\n",
    "Q3-2019: B20\n",
    "Q4-2019: B23\n",
    "Q1-2020: E14\n",
    "Q2-2020: E17\n",
    "Q3-2020: E20\n",
    "Q4-2020: E23\n",
    "Q1-2021: H14\n",
    "Q2-2021: H17\n",
    "Q3-2021: H20\n",
    "\"\"\"\n",
    "XPLTRANSLATION = {\n",
    "\"Q1-2019\": \"B14\",\n",
    "\"Q2-2019\": \"B17\",\n",
    "\"Q3-2019\": \"B20\",\n",
    "\"Q4-2019\": \"B23\",\n",
    "\"Q1-2020\": \"E14\",\n",
    "\"Q2-2020\": \"E17\",\n",
    "\"Q3-2020\": \"E20\",\n",
    "\"Q4-2020\": \"E23\",\n",
    "\"Q1-2021\": \"H14\",\n",
    "\"Q2-2021\": \"H17\",\n",
    "\"Q3-2021\": \"H20\"\n",
    "}\n",
    "for key,value in sub.get('profit_loss').items():\n",
    "    year = key.split(\"_\")[-1]\n",
    "    for entry in value:\n",
    "        for quarter, p_l in entry.items():\n",
    "            #print(year,quarter,p_l)\n",
    "            SEARCH_KEY = f\"{quarter}-{year}\"\n",
    "            destinationCell = XPLTRANSLATION.get(SEARCH_KEY)\n",
    "            #print(destinationCell)\n",
    "            if destinationCell:\n",
    "                sheet[destinationCell].value = p_l\n",
    "            else:\n",
    "                continue\n",
    "\n",
    "#workbook.save(f\"{directory}/Test_Output.xlsx\")\n"
   ]
  },
  {
   "cell_type": "code",
   "execution_count": 7,
   "metadata": {},
   "outputs": [],
   "source": [
    "TESTDOC = \"TestClients/Test Client 1/20_21 941 FORMS.PDF\"\n",
    "TESTTABULAR = \"TestClients/Test Client 1/fig-tree-psychotherapy-center-payroll-summary-2020-Q2.pdf\"\n",
    "TIFF_IMAGE = '0Obj4.tiff'\n",
    "reader = PdfReader(TESTDOC)\n",
    "#print(reader.pages[0].images[0].data)\n",
    "\n",
    "from PIL import Image\n",
    "import pytesseract\n",
    "import numpy as np\n",
    "pytesseract.pytesseract.tesseract_cmd= r'C:\\Program Files\\Tesseract-OCR\\tesseract'\n",
    "img1 = np.array(Image.open(TIFF_IMAGE))\n",
    "text = pytesseract.image_to_string(Image.open(TIFF_IMAGE))"
   ]
  },
  {
   "cell_type": "code",
   "execution_count": 8,
   "metadata": {},
   "outputs": [],
   "source": [
    "image = cv2.imread('0Obj4.tiff')\n",
    "results = pytesseract.image_to_data(image,output_type=pytesseract.Output.DICT)\n",
    "for i in range(0, len(results[\"text\"])):\n",
    "   x = results[\"left\"][i]\n",
    "   y = results[\"top\"][i]\n",
    "\n",
    "   w = results[\"width\"][i]\n",
    "   h = results[\"height\"][i]\n",
    "\n",
    "   text = results[\"text\"][i]\n",
    "   conf = int(results[\"conf\"][i])\n",
    "\n",
    "   if conf > 75:\n",
    "       text = \"\".join([c if ord(c) < 128 else \"\" for c in text]).strip()\n",
    "       cv2.rectangle(image, (x, y), (x + w, y + h), (0, 255, 0), 2)\n",
    "       cv2.putText(image, text, (x, y - 10), \n",
    "cv2.FONT_HERSHEY_SIMPLEX, 0.5, (0, 0, 200), 2)"
   ]
  },
  {
   "cell_type": "code",
   "execution_count": 9,
   "metadata": {},
   "outputs": [
    {
     "data": {
      "text/plain": [
       "True"
      ]
     },
     "execution_count": 9,
     "metadata": {},
     "output_type": "execute_result"
    }
   ],
   "source": [
    "cv2.imwrite('test.png',image)"
   ]
  },
  {
   "cell_type": "code",
   "execution_count": 11,
   "metadata": {},
   "outputs": [
    {
     "ename": "ModuleNotFoundError",
     "evalue": "No module named 'tools'",
     "output_type": "error",
     "traceback": [
      "\u001b[1;31m---------------------------------------------------------------------------\u001b[0m",
      "\u001b[1;31mModuleNotFoundError\u001b[0m                       Traceback (most recent call last)",
      "Cell \u001b[1;32mIn[11], line 6\u001b[0m\n\u001b[0;32m      1\u001b[0m \u001b[39m# from pdf2image import convert_from_path\u001b[39;00m\n\u001b[0;32m      2\u001b[0m \u001b[39m# pages = convert_from_path(r'TestClients/Test Client 1/20_21 941 FORMS.PDF')\u001b[39;00m\n\u001b[0;32m      3\u001b[0m \u001b[39m# for i,pg in enumerate(pages):\u001b[39;00m\n\u001b[0;32m      4\u001b[0m \u001b[39m#     pg.save(f\"{i}-out.png\",'PNG')\u001b[39;00m\n\u001b[1;32m----> 6\u001b[0m \u001b[39mimport\u001b[39;00m \u001b[39mfitz\u001b[39;00m  \u001b[39m# PyMuPDF, imported as fitz for backward compatibility reasons\u001b[39;00m\n\u001b[0;32m      7\u001b[0m file_path \u001b[39m=\u001b[39m \u001b[39m\"\u001b[39m\u001b[39mTestClients/Test Client 1/20_21 941 FORMS.PDF\u001b[39m\u001b[39m\"\u001b[39m\n\u001b[0;32m      8\u001b[0m doc \u001b[39m=\u001b[39m fitz\u001b[39m.\u001b[39mopen(file_path)  \u001b[39m# open document\u001b[39;00m\n",
      "File \u001b[1;32mc:\\Users\\Devin\\Desktop\\repos\\ertc-pipeline\\venv\\lib\\site-packages\\fitz\\__init__.py:2\u001b[0m\n\u001b[0;32m      1\u001b[0m \u001b[39mfrom\u001b[39;00m \u001b[39mfrontend\u001b[39;00m \u001b[39mimport\u001b[39;00m \u001b[39m*\u001b[39m\n\u001b[1;32m----> 2\u001b[0m \u001b[39mimport\u001b[39;00m \u001b[39mtools\u001b[39;00m\n\u001b[0;32m      3\u001b[0m \u001b[39mimport\u001b[39;00m \u001b[39mos\u001b[39;00m\u001b[39m.\u001b[39;00m\u001b[39mpath\u001b[39;00m \u001b[39mas\u001b[39;00m \u001b[39mop\u001b[39;00m\n\u001b[0;32m      5\u001b[0m __version__ \u001b[39m=\u001b[39m \u001b[39m'\u001b[39m\u001b[39m0.0.1dev2\u001b[39m\u001b[39m'\u001b[39m\n",
      "\u001b[1;31mModuleNotFoundError\u001b[0m: No module named 'tools'"
     ]
    }
   ],
   "source": [
    "# from pdf2image import convert_from_path\n",
    "# pages = convert_from_path(r'TestClients/Test Client 1/20_21 941 FORMS.PDF')\n",
    "# for i,pg in enumerate(pages):\n",
    "#     pg.save(f\"{i}-out.png\",'PNG')\n",
    "\n",
    "import fitz  # PyMuPDF, imported as fitz for backward compatibility reasons\n",
    "file_path = \"TestClients/Test Client 1/20_21 941 FORMS.PDF\"\n",
    "doc = fitz.open(file_path)  # open document\n",
    "for i, page in enumerate(doc):\n",
    "    pix = page.get_pixmap()  # render page to an image\n",
    "    pix.save(f\"page_{i}.png\")"
   ]
  },
  {
   "cell_type": "code",
   "execution_count": null,
   "metadata": {},
   "outputs": [],
   "source": [
    "#Parse Healthcare Documents"
   ]
  },
  {
   "cell_type": "code",
   "execution_count": null,
   "metadata": {},
   "outputs": [],
   "source": [
    "with open(\"test.pdf\",\"rb\") as f:\n",
    "    content= f.read()"
   ]
  },
  {
   "cell_type": "code",
   "execution_count": null,
   "metadata": {},
   "outputs": [],
   "source": []
  },
  {
   "cell_type": "code",
   "execution_count": null,
   "metadata": {},
   "outputs": [],
   "source": []
  }
 ],
 "metadata": {
  "kernelspec": {
   "display_name": "venv",
   "language": "python",
   "name": "python3"
  },
  "language_info": {
   "codemirror_mode": {
    "name": "ipython",
    "version": 3
   },
   "file_extension": ".py",
   "mimetype": "text/x-python",
   "name": "python",
   "nbconvert_exporter": "python",
   "pygments_lexer": "ipython3",
   "version": "3.10.7"
  },
  "orig_nbformat": 4,
  "vscode": {
   "interpreter": {
    "hash": "f8f3bd7f000ebc2d04532875d7750ef8e42bb1cade408113ba4fae3cc95283bf"
   }
  }
 },
 "nbformat": 4,
 "nbformat_minor": 2
}
