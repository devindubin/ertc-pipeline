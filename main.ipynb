{
 "cells": [
  {
   "cell_type": "code",
   "execution_count": 1,
   "metadata": {},
   "outputs": [],
   "source": [
    "import os\n",
    "import tabula\n",
    "import tabulate\n",
    "import pandas as pd"
   ]
  },
  {
   "cell_type": "code",
   "execution_count": 2,
   "metadata": {},
   "outputs": [],
   "source": [
    "# payroll_files = []\n",
    "# for root, dirs, files in os.walk('payrollexamples/'):\n",
    "#     for file in files:\n",
    "#         if 'payroll' in file:\n",
    "#             payroll_files.append(os.path.join(root,file))"
   ]
  },
  {
   "cell_type": "code",
   "execution_count": 3,
   "metadata": {},
   "outputs": [
    {
     "name": "stderr",
     "output_type": "stream",
     "text": [
      "Got stderr: Picked up JAVA_TOOL_OPTIONS:  -Xmx3489m\n",
      "\n",
      "Got stderr: Picked up JAVA_TOOL_OPTIONS:  -Xmx3489m\n",
      "\n",
      "Got stderr: Picked up JAVA_TOOL_OPTIONS:  -Xmx3489m\n",
      "\n",
      "Got stderr: Picked up JAVA_TOOL_OPTIONS:  -Xmx3489m\n",
      "\n",
      "Got stderr: Picked up JAVA_TOOL_OPTIONS:  -Xmx3489m\n",
      "\n",
      "Got stderr: Picked up JAVA_TOOL_OPTIONS:  -Xmx3489m\n",
      "\n",
      "Got stderr: Picked up JAVA_TOOL_OPTIONS:  -Xmx3489m\n",
      "\n",
      "Got stderr: Picked up JAVA_TOOL_OPTIONS:  -Xmx3489m\n",
      "\n",
      "Got stderr: Picked up JAVA_TOOL_OPTIONS:  -Xmx3489m\n",
      "\n",
      "Got stderr: Picked up JAVA_TOOL_OPTIONS:  -Xmx3489m\n",
      "\n"
     ]
    }
   ],
   "source": [
    "#output = tabula.read_pdf(payroll_files[0],pages=\"all\")\n",
    "output = []\n",
    "for filename in payroll_files:\n",
    "    try:\n",
    "        df_array = tabula.read_pdf(filename,pages='all',multiple_tables=False)\n",
    "    except:\n",
    "        df_array = tabula.read_pdf(filename,pages='all',multiple_tables=True)\n",
    "    core = pd.DataFrame()\n",
    "    for df in df_array:\n",
    "        if not df.empty and 'Unnamed' not in df.columns:\n",
    "            core = pd.concat([core,df],axis=0)\n",
    "\n",
    "    \n",
    "\n",
    "    core = core.reset_index(drop=True)\n",
    "    columns_to_drop = []\n",
    "    for name in core.columns:\n",
    "        if 'Unnamed' in name:\n",
    "            columns_to_drop.append(name)\n",
    "        \n",
    "    core = core.drop(columns=columns_to_drop).dropna(how='all')\n",
    "    core.payroll_name = filename\n",
    "    output.append(core)\n"
   ]
  },
  {
   "cell_type": "code",
   "execution_count": 8,
   "metadata": {},
   "outputs": [],
   "source": [
    "new_array = []\n",
    "for df in output:\n",
    "    pay_name = df.payroll_name\n",
    "    df = df.set_index(df.columns[0])\n",
    "    df1 = df.apply(lambda x: x.apply(lambda x: x.replace(\"$\", \"\").replace(\",\",\"\")\n",
    "                                    if\n",
    "                                    hasattr(x, 'replace')\n",
    "                                    else x))\n",
    "    #df = df.apply(lambda x: x.apply())\n",
    "    df1.payroll_name = pay_name                                \n",
    "    new_array.append(df1)\n",
    "\n",
    "    #df.apply(lambda x: x.apply(lambda x: x.replace('$','') if type(x) == str else x))\n",
    "\n",
    "\n",
    "summary_array = []\n",
    "for df in new_array:\n",
    "    pay_name = df.payroll_name\n",
    "    df1=df[df.apply(lambda x: x.apply(lambda x: any([i.isdigit() for i in x])))]\n",
    "    \n",
    "    df1.payroll_name = pay_name\n",
    "    summary_array.append(df1)\n",
    "    \n",
    "    \n",
    "    "
   ]
  },
  {
   "cell_type": "code",
   "execution_count": 9,
   "metadata": {},
   "outputs": [],
   "source": [
    "agg_array = []\n",
    "\n",
    "for df in summary_array:\n",
    "    pay_name = df.payroll_name\n",
    "    df1 = df.apply(lambda x: x.apply(lambda x: float(x))).groupby(\n",
    "        'Employee Name'\n",
    "    ).agg('sum')\n",
    "    df1.payroll_name = pay_name\n",
    "    agg_array.append(df1)"
   ]
  },
  {
   "cell_type": "code",
   "execution_count": null,
   "metadata": {},
   "outputs": [],
   "source": []
  }
 ],
 "metadata": {
  "kernelspec": {
   "display_name": "Python 3",
   "language": "python",
   "name": "python3"
  },
  "language_info": {
   "codemirror_mode": {
    "name": "ipython",
    "version": 3
   },
   "file_extension": ".py",
   "mimetype": "text/x-python",
   "name": "python",
   "nbconvert_exporter": "python",
   "pygments_lexer": "ipython3",
   "version": "3.8.13 (default, Oct  4 2022, 14:00:32) \n[GCC 9.4.0]"
  },
  "orig_nbformat": 4,
  "vscode": {
   "interpreter": {
    "hash": "9ac03a0a6051494cc606d484d27d20fce22fb7b4d169f583271e11d5ba46a56e"
   }
  }
 },
 "nbformat": 4,
 "nbformat_minor": 2
}
